{
 "cells": [
  {
   "cell_type": "markdown",
   "id": "025412ee",
   "metadata": {},
   "source": [
    "# Import required modules"
   ]
  },
  {
   "cell_type": "code",
   "execution_count": 1,
   "id": "4da6a89d",
   "metadata": {},
   "outputs": [],
   "source": [
    "import os\n",
    "from langchain.llms import HuggingFaceHub\n",
    "\n",
    "from langchain.prompts import PromptTemplate\n",
    "from langchain.chains import LLMChain\n",
    "from langchain.chains import SimpleSequentialChain\n",
    "\n",
    "from langchain.chains import SequentialChain"
   ]
  },
  {
   "cell_type": "code",
   "execution_count": 2,
   "id": "ac5c9f5b",
   "metadata": {},
   "outputs": [],
   "source": [
    "# !pip install python-dotenv"
   ]
  },
  {
   "cell_type": "code",
   "execution_count": 3,
   "id": "ff7e4b07",
   "metadata": {},
   "outputs": [
    {
     "data": {
      "text/plain": [
       "True"
      ]
     },
     "execution_count": 3,
     "metadata": {},
     "output_type": "execute_result"
    }
   ],
   "source": [
    "from dotenv import load_dotenv\n",
    "\n",
    "load_dotenv()"
   ]
  },
  {
   "cell_type": "code",
   "execution_count": 4,
   "id": "22517ca5",
   "metadata": {},
   "outputs": [],
   "source": [
    "HUGGINGFACEHUB_API_TOKEN = os.getenv('huggingface_api_key')"
   ]
  },
  {
   "cell_type": "code",
   "execution_count": 5,
   "id": "f2c13a30",
   "metadata": {},
   "outputs": [],
   "source": [
    "os.environ[\"HUGGINGFACEHUB_API_TOKEN\"] = HUGGINGFACEHUB_API_TOKEN"
   ]
  },
  {
   "cell_type": "code",
   "execution_count": 6,
   "id": "2a6650a2",
   "metadata": {},
   "outputs": [],
   "source": [
    "model_id = \"google/flan-t5-xxl\"\n",
    "\n",
    "llm = HuggingFaceHub(repo_id=model_id, model_kwargs={\"temperature\":0.2, \"max_length\":64})"
   ]
  },
  {
   "cell_type": "markdown",
   "id": "edb79631",
   "metadata": {},
   "source": [
    "# Simple Sequential Chain"
   ]
  },
  {
   "cell_type": "code",
   "execution_count": 7,
   "id": "ded7d009",
   "metadata": {},
   "outputs": [],
   "source": [
    "prompt_template_name = PromptTemplate(input_variables=[\"cusine\"],\n",
    "                                      template=\"I want to open a {cusine} resturant, suggest a fancy name for this\"\n",
    "                                      )\n",
    "\n",
    "name_chain = LLMChain(llm=llm, prompt=prompt_template_name)"
   ]
  },
  {
   "cell_type": "code",
   "execution_count": 8,
   "id": "03e52b77",
   "metadata": {},
   "outputs": [],
   "source": [
    "prompt_template_items = PromptTemplate(input_variables=[\"resturant_name\"],\n",
    "                                      template=\"Suggest 5 food menu items for {resturant_name} resturant.\"\n",
    "                                      )\n",
    "\n",
    "food_items_chain = LLMChain(llm=llm, prompt=prompt_template_items)"
   ]
  },
  {
   "cell_type": "code",
   "execution_count": 9,
   "id": "d688b4ff",
   "metadata": {},
   "outputs": [
    {
     "name": "stdout",
     "output_type": "stream",
     "text": [
      "The Spice Merchant has a great selection of wines and beers. It also has a great selection of appetizers and salads.\n"
     ]
    }
   ],
   "source": [
    "overall_chain = SimpleSequentialChain(\n",
    "    chains=[name_chain, food_items_chain]\n",
    ")\n",
    "\n",
    "response = overall_chain.run(\"Indian\")\n",
    "print(response)"
   ]
  },
  {
   "cell_type": "markdown",
   "id": "0d458a7e",
   "metadata": {},
   "source": [
    "# Sequential Chain"
   ]
  },
  {
   "cell_type": "code",
   "execution_count": 10,
   "id": "90f1b413",
   "metadata": {},
   "outputs": [],
   "source": [
    "llm = HuggingFaceHub(repo_id=model_id, model_kwargs={\"temperature\":0.2, \"max_length\":64})\n",
    "\n",
    "prompt_template_name = PromptTemplate(input_variables=[\"cuisine\"],\n",
    "                                      template=\"I want to open a {cuisine} resturant, suggest a fancy name for this\"\n",
    "                                      )\n",
    "\n",
    "name_chain = LLMChain(llm=llm, prompt=prompt_template_name, output_key=\"restaurant_name\")\n",
    "\n",
    "\n",
    "llm = HuggingFaceHub(repo_id=model_id, model_kwargs={\"temperature\":0.2, \"max_length\":64})\n",
    "\n",
    "prompt_template_items = PromptTemplate(input_variables=[\"restaurant_name\"],\n",
    "                                      template=\"Suggest 5 food items which can be added in the menu for {restaurant_name}.\"\n",
    "                                      )\n",
    "\n",
    "food_items_chain = LLMChain(llm=llm, prompt=prompt_template_items, output_key=\"menu_items\")"
   ]
  },
  {
   "cell_type": "code",
   "execution_count": 11,
   "id": "b952144d",
   "metadata": {},
   "outputs": [
    {
     "data": {
      "text/plain": [
       "{'cuisine': 'Arabic',\n",
       " 'restaurant_name': 'The Aladdin',\n",
       " 'menu_items': 'Chicken tikka, naan, samosa, dal makhani, naan kulfi'}"
      ]
     },
     "execution_count": 11,
     "metadata": {},
     "output_type": "execute_result"
    }
   ],
   "source": [
    "chain = SequentialChain(\n",
    "    chains=[name_chain, food_items_chain],\n",
    "    input_variables=[\"cuisine\"],\n",
    "    output_variables=[\"restaurant_name\", \"menu_items\"]\n",
    ")\n",
    "\n",
    "chain({\"cuisine\":\"Arabic\"})"
   ]
  },
  {
   "cell_type": "code",
   "execution_count": null,
   "id": "15b23c7c",
   "metadata": {},
   "outputs": [],
   "source": []
  },
  {
   "cell_type": "code",
   "execution_count": null,
   "id": "b2e61f0a",
   "metadata": {},
   "outputs": [],
   "source": []
  },
  {
   "cell_type": "code",
   "execution_count": null,
   "id": "bfcfcad1",
   "metadata": {},
   "outputs": [],
   "source": []
  },
  {
   "cell_type": "code",
   "execution_count": null,
   "id": "904824eb",
   "metadata": {},
   "outputs": [],
   "source": []
  }
 ],
 "metadata": {
  "kernelspec": {
   "display_name": "Python 3",
   "language": "python",
   "name": "python3"
  },
  "language_info": {
   "codemirror_mode": {
    "name": "ipython",
    "version": 3
   },
   "file_extension": ".py",
   "mimetype": "text/x-python",
   "name": "python",
   "nbconvert_exporter": "python",
   "pygments_lexer": "ipython3",
   "version": "3.8.8"
  }
 },
 "nbformat": 4,
 "nbformat_minor": 5
}

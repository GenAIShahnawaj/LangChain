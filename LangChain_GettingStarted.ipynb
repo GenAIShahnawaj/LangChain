{
 "cells": [
  {
   "cell_type": "code",
   "execution_count": null,
   "id": "f1c76446",
   "metadata": {},
   "outputs": [],
   "source": []
  },
  {
   "cell_type": "code",
   "execution_count": 1,
   "id": "4da6a89d",
   "metadata": {},
   "outputs": [],
   "source": [
    "import os\n",
    "from langchain.llms import HuggingFaceHub\n",
    "from secret_key import huggingface_api_key\n",
    "\n",
    "from langchain.prompts import PromptTemplate\n",
    "from langchain.chains import LLMChain"
   ]
  },
  {
   "cell_type": "code",
   "execution_count": 2,
   "id": "b7a58f97",
   "metadata": {},
   "outputs": [],
   "source": [
    "os.environ[\"HUGGINGFACEHUB_API_TOKEN\"] = huggingface_api_key"
   ]
  },
  {
   "cell_type": "code",
   "execution_count": 3,
   "id": "2a6650a2",
   "metadata": {},
   "outputs": [],
   "source": [
    "model_id = \"google/flan-t5-xxl\"\n",
    "\n",
    "llm = HuggingFaceHub(repo_id=model_id, model_kwargs={\"temperature\":0.2, \"max_length\":64})"
   ]
  },
  {
   "cell_type": "code",
   "execution_count": 4,
   "id": "ded7d009",
   "metadata": {},
   "outputs": [],
   "source": [
    "prompt_template_name = PromptTemplate(input_variables=[\"cusine\"],\n",
    "                                      template=\"I want to open a {cusine} resturant, suggest a fancy name for this\"\n",
    "                                      )"
   ]
  },
  {
   "cell_type": "code",
   "execution_count": 5,
   "id": "80383efa",
   "metadata": {},
   "outputs": [
    {
     "data": {
      "text/plain": [
       "'The Blues Brothers'"
      ]
     },
     "execution_count": 5,
     "metadata": {},
     "output_type": "execute_result"
    }
   ],
   "source": [
    "chain = LLMChain(llm=llm, prompt=prompt_template_name)\n",
    "chain.run(\"American\")"
   ]
  }
 ],
 "metadata": {
  "kernelspec": {
   "display_name": "Python 3",
   "language": "python",
   "name": "python3"
  },
  "language_info": {
   "codemirror_mode": {
    "name": "ipython",
    "version": 3
   },
   "file_extension": ".py",
   "mimetype": "text/x-python",
   "name": "python",
   "nbconvert_exporter": "python",
   "pygments_lexer": "ipython3",
   "version": "3.8.8"
  }
 },
 "nbformat": 4,
 "nbformat_minor": 5
}

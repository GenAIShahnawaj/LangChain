{
 "cells": [
  {
   "cell_type": "markdown",
   "id": "d3121735",
   "metadata": {},
   "source": [
    "# Import required modules"
   ]
  },
  {
   "cell_type": "code",
   "execution_count": 1,
   "id": "4da6a89d",
   "metadata": {},
   "outputs": [],
   "source": [
    "import os\n",
    "from langchain.llms import HuggingFaceHub\n",
    "from secret_key import huggingface_api_key\n",
    "\n",
    "from langchain.prompts import PromptTemplate\n",
    "from langchain.chains import LLMChain\n",
    "from langchain.chains import SimpleSequentialChain\n",
    "\n",
    "from langchain.chains import SequentialChain"
   ]
  },
  {
   "cell_type": "code",
   "execution_count": 2,
   "id": "b7a58f97",
   "metadata": {},
   "outputs": [],
   "source": [
    "os.environ[\"HUGGINGFACEHUB_API_TOKEN\"] = huggingface_api_key"
   ]
  },
  {
   "cell_type": "code",
   "execution_count": 3,
   "id": "2a6650a2",
   "metadata": {},
   "outputs": [],
   "source": [
    "model_id = \"google/flan-t5-xxl\"\n",
    "\n",
    "llm = HuggingFaceHub(repo_id=model_id, model_kwargs={\"temperature\":0.2, \"max_length\":64})"
   ]
  },
  {
   "cell_type": "markdown",
   "id": "0c45d2ee",
   "metadata": {},
   "source": [
    "# Simple Sequential Chain"
   ]
  },
  {
   "cell_type": "code",
   "execution_count": 4,
   "id": "ded7d009",
   "metadata": {},
   "outputs": [],
   "source": [
    "prompt_template_name = PromptTemplate(input_variables=[\"cusine\"],\n",
    "                                      template=\"I want to open a {cusine} resturant, suggest a fancy name for this\"\n",
    "                                      )\n",
    "\n",
    "name_chain = LLMChain(llm=llm, prompt=prompt_template_name)"
   ]
  },
  {
   "cell_type": "code",
   "execution_count": 5,
   "id": "03e52b77",
   "metadata": {},
   "outputs": [],
   "source": [
    "prompt_template_items = PromptTemplate(input_variables=[\"resturant_name\"],\n",
    "                                      template=\"Suggest 10 food menu items for {resturant_name} resturant and return it as a comma separated list.\"\n",
    "                                      )\n",
    "\n",
    "food_items_chain = LLMChain(llm=llm, prompt=prompt_template_items)"
   ]
  },
  {
   "cell_type": "code",
   "execution_count": 6,
   "id": "a543404e",
   "metadata": {},
   "outputs": [
    {
     "name": "stdout",
     "output_type": "stream",
     "text": [
      ",,,,,,, \n"
     ]
    }
   ],
   "source": [
    "overall_chain = SimpleSequentialChain(\n",
    "    chains=[name_chain, food_items_chain]\n",
    ")\n",
    "\n",
    "response = overall_chain.run(\"Indian\")\n",
    "print(response)"
   ]
  },
  {
   "cell_type": "markdown",
   "id": "22b8cfa4",
   "metadata": {},
   "source": [
    "# Sequential Chain"
   ]
  },
  {
   "cell_type": "code",
   "execution_count": 12,
   "id": "279bf739",
   "metadata": {},
   "outputs": [],
   "source": [
    "llm = HuggingFaceHub(repo_id=model_id, model_kwargs={\"temperature\":0.2, \"max_length\":64})\n",
    "\n",
    "prompt_template_name = PromptTemplate(input_variables=[\"cuisine\"],\n",
    "                                      template=\"I want to open a {cuisine} resturant, suggest a fancy name for this\"\n",
    "                                      )\n",
    "\n",
    "name_chain = LLMChain(llm=llm, prompt=prompt_template_name, output_key=\"restaurant_name\")\n",
    "\n",
    "\n",
    "llm = HuggingFaceHub(repo_id=model_id, model_kwargs={\"temperature\":0.2, \"max_length\":64})\n",
    "\n",
    "prompt_template_items = PromptTemplate(input_variables=[\"restaurant_name\"],\n",
    "                                      template=\"Suggest some menu items for {restaurant_name}.\"\n",
    "                                      )\n",
    "\n",
    "food_items_chain = LLMChain(llm=llm, prompt=prompt_template_items, output_key=\"menu_items\")"
   ]
  },
  {
   "cell_type": "code",
   "execution_count": 15,
   "id": "e344def6",
   "metadata": {},
   "outputs": [
    {
     "data": {
      "text/plain": [
       "{'cuisine': 'Arabic',\n",
       " 'restaurant_name': 'The Arab',\n",
       " 'menu_items': 'Chicken shawarma, hummus, falafel, baba ganoush, baba ganoush, hummus, falafel, baba ganoush, hummus, falafel, baba ganoush, baba ganoush, baba ganoush, baba ganoush, baba ganoush, baba ganoush, baba ganoush, baba ganoush, baba ganoush, baba ganoush, baba ganoush, baba ganoush, baba ganoush, baba ganoush, baba ganoush, baba ganoush, baba ganoush, baba ganoush, baba ganoush, baba ganoush, baba ganoush, baba ganoush, baba ganoush, baba ganoush, baba ganoush, baba ganoush, baba ganoush, baba ganoush, baba ganoush, baba ganoush, baba ganoush, baba ganoush, baba ganoush, baba ganoush, baba ganoush, baba ganoush, baba ganoush, baba ganoush, baba ganoush, baba ganoush, baba ganoush, baba ganoush, baba ganoush, baba ganoush, baba ganoush, baba ganoush, baba ganoush, baba ganoush, baba ganoush, baba ganoush, baba ganoush, baba ganoush, baba ganoush, baba ganoush, baba ganoush, baba ganoush, baba ganoush, baba ganoush, baba ganoush, baba ganoush, baba ganoush, baba ganoush, baba ganoush, baba ganoush, baba ganoush, baba ganoush, baba ganoush, baba ganoush, baba ganoush, baba ganoush, baba ganoush, baba ganoush, baba ganoush, baba ganoush, baba ganoush, baba ganoush, baba ganoush, baba ganoush, baba ganoush, baba ganoush, baba ganoush, baba ganoush, baba ganoush, baba ganoush, baba ganoush, baba ganoush, baba ganoush, baba ganoush, baba ganoush, baba ganoush, baba ganoush, baba ganoush, baba ganoush, baba ganoush, baba ganoush, baba ganoush, baba ganoush, baba ganoush, baba ganoush, baba ganoush, baba ganoush, baba ganoush, baba ganoush, baba ganoush, baba ganoush, baba ganoush, baba ganoush, baba ganoush, baba ganoush, baba ganoush, baba ganoush, baba ganoush, baba ganoush, baba ganoush, baba ganoush, baba ganoush, baba ganoush, baba ganoush, baba ganoush, baba ganoush, baba ganoush, baba ganoush, baba ganoush, baba ganoush, baba ganoush, baba ganoush, baba ganoush, baba ganoush, baba ganoush, baba ganoush, baba ganoush, baba ganoush, baba ganoush, baba ganoush, baba ganoush, baba ganoush, baba ganoush, baba ganoush, baba ganoush, baba ganoush, baba ganoush, baba ganoush, baba ganoush, baba ganoush, baba ganoush, baba ganoush, baba ganoush, baba ganoush,...'}"
      ]
     },
     "execution_count": 15,
     "metadata": {},
     "output_type": "execute_result"
    }
   ],
   "source": [
    "chain = SequentialChain(\n",
    "    chains=[name_chain, food_items_chain],\n",
    "    input_variables=[\"cuisine\"],\n",
    "    output_variables=[\"restaurant_name\", \"menu_items\"]\n",
    ")\n",
    "\n",
    "chain({\"cuisine\":\"Arabic\"})"
   ]
  },
  {
   "cell_type": "code",
   "execution_count": null,
   "id": "94adb624",
   "metadata": {},
   "outputs": [],
   "source": []
  }
 ],
 "metadata": {
  "kernelspec": {
   "display_name": "Python 3",
   "language": "python",
   "name": "python3"
  },
  "language_info": {
   "codemirror_mode": {
    "name": "ipython",
    "version": 3
   },
   "file_extension": ".py",
   "mimetype": "text/x-python",
   "name": "python",
   "nbconvert_exporter": "python",
   "pygments_lexer": "ipython3",
   "version": "3.8.8"
  }
 },
 "nbformat": 4,
 "nbformat_minor": 5
}
